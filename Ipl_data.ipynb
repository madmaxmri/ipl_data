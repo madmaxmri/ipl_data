{
 "cells": [
  {
   "cell_type": "code",
   "execution_count": 409,
   "id": "a63f3655-8608-4223-92d3-243a0d4f95bb",
   "metadata": {},
   "outputs": [],
   "source": [
    "import pandas as pd\n",
    "import numpy as np\n",
    "import seaborn as sns\n",
    "import matplotlib.pyplot as plt\n",
    "import warnings\n",
    "warnings.filterwarnings('ignore')\n",
    "%matplotlib inline"
   ]
  },
  {
   "cell_type": "code",
   "execution_count": 410,
   "id": "ba471f55-8854-4e09-a8af-53b397429c20",
   "metadata": {},
   "outputs": [
    {
     "data": {
      "text/html": [
       "<div>\n",
       "<style scoped>\n",
       "    .dataframe tbody tr th:only-of-type {\n",
       "        vertical-align: middle;\n",
       "    }\n",
       "\n",
       "    .dataframe tbody tr th {\n",
       "        vertical-align: top;\n",
       "    }\n",
       "\n",
       "    .dataframe thead th {\n",
       "        text-align: right;\n",
       "    }\n",
       "</style>\n",
       "<table border=\"1\" class=\"dataframe\">\n",
       "  <thead>\n",
       "    <tr style=\"text-align: right;\">\n",
       "      <th></th>\n",
       "      <th>Jersey No</th>\n",
       "      <th>Player</th>\n",
       "      <th>Matches</th>\n",
       "      <th>Inns</th>\n",
       "      <th>Not Out</th>\n",
       "      <th>Runs</th>\n",
       "      <th>Highest Score</th>\n",
       "      <th>Avg</th>\n",
       "      <th>Balls faced</th>\n",
       "      <th>Strike rate</th>\n",
       "      <th>100s</th>\n",
       "      <th>50s</th>\n",
       "      <th>4s</th>\n",
       "      <th>6s</th>\n",
       "    </tr>\n",
       "  </thead>\n",
       "  <tbody>\n",
       "    <tr>\n",
       "      <th>0</th>\n",
       "      <td>1</td>\n",
       "      <td>KL Rahul</td>\n",
       "      <td>14</td>\n",
       "      <td>14</td>\n",
       "      <td>2</td>\n",
       "      <td>670</td>\n",
       "      <td>132*</td>\n",
       "      <td>55.83</td>\n",
       "      <td>518</td>\n",
       "      <td>129.34</td>\n",
       "      <td>1</td>\n",
       "      <td>5</td>\n",
       "      <td>58</td>\n",
       "      <td>23</td>\n",
       "    </tr>\n",
       "    <tr>\n",
       "      <th>1</th>\n",
       "      <td>2</td>\n",
       "      <td>Shikhar Dhawan</td>\n",
       "      <td>17</td>\n",
       "      <td>17</td>\n",
       "      <td>3</td>\n",
       "      <td>618</td>\n",
       "      <td>106*</td>\n",
       "      <td>44.14</td>\n",
       "      <td>427</td>\n",
       "      <td>144.73</td>\n",
       "      <td>2</td>\n",
       "      <td>4</td>\n",
       "      <td>67</td>\n",
       "      <td>12</td>\n",
       "    </tr>\n",
       "    <tr>\n",
       "      <th>2</th>\n",
       "      <td>3</td>\n",
       "      <td>David Warner</td>\n",
       "      <td>16</td>\n",
       "      <td>16</td>\n",
       "      <td>2</td>\n",
       "      <td>548</td>\n",
       "      <td>85*</td>\n",
       "      <td>39.14</td>\n",
       "      <td>407</td>\n",
       "      <td>134.64</td>\n",
       "      <td>0</td>\n",
       "      <td>4</td>\n",
       "      <td>52</td>\n",
       "      <td>14</td>\n",
       "    </tr>\n",
       "    <tr>\n",
       "      <th>3</th>\n",
       "      <td>4</td>\n",
       "      <td>Shreyas Iyer</td>\n",
       "      <td>17</td>\n",
       "      <td>17</td>\n",
       "      <td>2</td>\n",
       "      <td>519</td>\n",
       "      <td>88*</td>\n",
       "      <td>34.60</td>\n",
       "      <td>421</td>\n",
       "      <td>123.27</td>\n",
       "      <td>0</td>\n",
       "      <td>3</td>\n",
       "      <td>40</td>\n",
       "      <td>16</td>\n",
       "    </tr>\n",
       "    <tr>\n",
       "      <th>4</th>\n",
       "      <td>5</td>\n",
       "      <td>Ishan Kishan</td>\n",
       "      <td>14</td>\n",
       "      <td>13</td>\n",
       "      <td>4</td>\n",
       "      <td>516</td>\n",
       "      <td>99</td>\n",
       "      <td>57.33</td>\n",
       "      <td>354</td>\n",
       "      <td>145.76</td>\n",
       "      <td>0</td>\n",
       "      <td>4</td>\n",
       "      <td>36</td>\n",
       "      <td>30</td>\n",
       "    </tr>\n",
       "    <tr>\n",
       "      <th>...</th>\n",
       "      <td>...</td>\n",
       "      <td>...</td>\n",
       "      <td>...</td>\n",
       "      <td>...</td>\n",
       "      <td>...</td>\n",
       "      <td>...</td>\n",
       "      <td>...</td>\n",
       "      <td>...</td>\n",
       "      <td>...</td>\n",
       "      <td>...</td>\n",
       "      <td>...</td>\n",
       "      <td>...</td>\n",
       "      <td>...</td>\n",
       "      <td>...</td>\n",
       "    </tr>\n",
       "    <tr>\n",
       "      <th>128</th>\n",
       "      <td>129</td>\n",
       "      <td>Khaleel Ahmed</td>\n",
       "      <td>7</td>\n",
       "      <td>1</td>\n",
       "      <td>0</td>\n",
       "      <td>0</td>\n",
       "      <td>0*</td>\n",
       "      <td>0.00</td>\n",
       "      <td>2</td>\n",
       "      <td>0.00</td>\n",
       "      <td>0</td>\n",
       "      <td>0</td>\n",
       "      <td>0</td>\n",
       "      <td>0</td>\n",
       "    </tr>\n",
       "    <tr>\n",
       "      <th>129</th>\n",
       "      <td>130</td>\n",
       "      <td>Arshdeep Singh</td>\n",
       "      <td>8</td>\n",
       "      <td>1</td>\n",
       "      <td>0</td>\n",
       "      <td>0</td>\n",
       "      <td>0*</td>\n",
       "      <td>0.00</td>\n",
       "      <td>3</td>\n",
       "      <td>0.00</td>\n",
       "      <td>0</td>\n",
       "      <td>0</td>\n",
       "      <td>0</td>\n",
       "      <td>0</td>\n",
       "    </tr>\n",
       "    <tr>\n",
       "      <th>130</th>\n",
       "      <td>131</td>\n",
       "      <td>Daniel Sams</td>\n",
       "      <td>3</td>\n",
       "      <td>1</td>\n",
       "      <td>0</td>\n",
       "      <td>0</td>\n",
       "      <td>0*</td>\n",
       "      <td>0.00</td>\n",
       "      <td>2</td>\n",
       "      <td>0.00</td>\n",
       "      <td>0</td>\n",
       "      <td>0</td>\n",
       "      <td>0</td>\n",
       "      <td>0</td>\n",
       "    </tr>\n",
       "    <tr>\n",
       "      <th>131</th>\n",
       "      <td>132</td>\n",
       "      <td>Shreevats Goswami</td>\n",
       "      <td>2</td>\n",
       "      <td>2</td>\n",
       "      <td>0</td>\n",
       "      <td>0</td>\n",
       "      <td>0*</td>\n",
       "      <td>0.00</td>\n",
       "      <td>4</td>\n",
       "      <td>0.00</td>\n",
       "      <td>0</td>\n",
       "      <td>0</td>\n",
       "      <td>0</td>\n",
       "      <td>0</td>\n",
       "    </tr>\n",
       "    <tr>\n",
       "      <th>132</th>\n",
       "      <td>133</td>\n",
       "      <td>Trent Boult</td>\n",
       "      <td>15</td>\n",
       "      <td>1</td>\n",
       "      <td>0</td>\n",
       "      <td>0</td>\n",
       "      <td>0*</td>\n",
       "      <td>0.00</td>\n",
       "      <td>1</td>\n",
       "      <td>0.00</td>\n",
       "      <td>0</td>\n",
       "      <td>0</td>\n",
       "      <td>0</td>\n",
       "      <td>0</td>\n",
       "    </tr>\n",
       "  </tbody>\n",
       "</table>\n",
       "<p>133 rows × 14 columns</p>\n",
       "</div>"
      ],
      "text/plain": [
       "     Jersey No             Player  Matches  Inns  Not Out  Runs Highest Score  \\\n",
       "0            1           KL Rahul       14    14        2   670          132*   \n",
       "1            2     Shikhar Dhawan       17    17        3   618          106*   \n",
       "2            3       David Warner       16    16        2   548           85*   \n",
       "3            4       Shreyas Iyer       17    17        2   519           88*   \n",
       "4            5       Ishan Kishan       14    13        4   516            99   \n",
       "..         ...                ...      ...   ...      ...   ...           ...   \n",
       "128        129      Khaleel Ahmed        7     1        0     0            0*   \n",
       "129        130     Arshdeep Singh        8     1        0     0            0*   \n",
       "130        131        Daniel Sams        3     1        0     0            0*   \n",
       "131        132  Shreevats Goswami        2     2        0     0            0*   \n",
       "132        133        Trent Boult       15     1        0     0            0*   \n",
       "\n",
       "       Avg  Balls faced  Strike rate  100s  50s  4s  6s  \n",
       "0    55.83          518       129.34     1    5  58  23  \n",
       "1    44.14          427       144.73     2    4  67  12  \n",
       "2    39.14          407       134.64     0    4  52  14  \n",
       "3    34.60          421       123.27     0    3  40  16  \n",
       "4    57.33          354       145.76     0    4  36  30  \n",
       "..     ...          ...          ...   ...  ...  ..  ..  \n",
       "128   0.00            2         0.00     0    0   0   0  \n",
       "129   0.00            3         0.00     0    0   0   0  \n",
       "130   0.00            2         0.00     0    0   0   0  \n",
       "131   0.00            4         0.00     0    0   0   0  \n",
       "132   0.00            1         0.00     0    0   0   0  \n",
       "\n",
       "[133 rows x 14 columns]"
      ]
     },
     "execution_count": 410,
     "metadata": {},
     "output_type": "execute_result"
    }
   ],
   "source": [
    "data = pd.read_excel('ipl.xlsm')\n",
    "data"
   ]
  },
  {
   "cell_type": "markdown",
   "id": "bc64b938-2690-420a-b891-5b28fbeee215",
   "metadata": {},
   "source": [
    "Q1. What is the maximum number of matches played by an individual player in a season? Print the player name along with the number of matched played."
   ]
  },
  {
   "cell_type": "markdown",
   "id": "bdf7db83-4db1-4931-b739-497e5e8d953f",
   "metadata": {},
   "source": [
    "Answer:"
   ]
  },
  {
   "cell_type": "code",
   "execution_count": 413,
   "id": "68fb464f-589f-46ae-9963-cae4b1b5ac93",
   "metadata": {},
   "outputs": [
    {
     "name": "stdout",
     "output_type": "stream",
     "text": [
      "17\n"
     ]
    }
   ],
   "source": [
    "Max_of_matches_played= data['Matches'].max()\n",
    "print(Max_of_matches_played)\n"
   ]
  },
  {
   "cell_type": "code",
   "execution_count": 414,
   "id": "23361526-8faa-43a1-aa52-bfde5e18dca6",
   "metadata": {},
   "outputs": [
    {
     "name": "stdout",
     "output_type": "stream",
     "text": [
      "Individuals who played most numbers of matches in the season :\n",
      "1     Shikhar Dhawan\n",
      "3       Shreyas Iyer\n",
      "19    Marcus Stoinis\n",
      "67     Kagiso Rabada\n",
      "Name: Player, dtype: object\n"
     ]
    }
   ],
   "source": [
    "opt = data[(data['Matches']==data['Matches'].max())]\n",
    "player_name = opt.Player\n",
    "print('Individuals who played most numbers of matches in the season :')\n",
    "print(player_name)"
   ]
  },
  {
   "cell_type": "markdown",
   "id": "b85fb50a-3a70-4c8a-b265-6465075077f4",
   "metadata": {},
   "source": [
    "Q2. Top 2 players with maximum Average who have scored atleast 2 half centuries \n"
   ]
  },
  {
   "cell_type": "markdown",
   "id": "19bafc8d-a971-43b4-9d5b-4bb227088b21",
   "metadata": {},
   "source": [
    "Answer:"
   ]
  },
  {
   "cell_type": "code",
   "execution_count": 417,
   "id": "4e6ac44c-f231-4d92-be56-3a98f1b82f2c",
   "metadata": {},
   "outputs": [
    {
     "data": {
      "text/plain": [
       "101.0"
      ]
     },
     "execution_count": 417,
     "metadata": {},
     "output_type": "execute_result"
    }
   ],
   "source": [
    "max_avg = data['Avg'].max()\n",
    "max_avg"
   ]
  },
  {
   "cell_type": "code",
   "execution_count": 418,
   "id": "ac4f9bd8-aafd-4ec1-a056-f66df7e2383b",
   "metadata": {},
   "outputs": [
    {
     "data": {
      "text/html": [
       "<div>\n",
       "<style scoped>\n",
       "    .dataframe tbody tr th:only-of-type {\n",
       "        vertical-align: middle;\n",
       "    }\n",
       "\n",
       "    .dataframe tbody tr th {\n",
       "        vertical-align: top;\n",
       "    }\n",
       "\n",
       "    .dataframe thead th {\n",
       "        text-align: right;\n",
       "    }\n",
       "</style>\n",
       "<table border=\"1\" class=\"dataframe\">\n",
       "  <thead>\n",
       "    <tr style=\"text-align: right;\">\n",
       "      <th></th>\n",
       "      <th>Jersey No</th>\n",
       "      <th>Player</th>\n",
       "      <th>Matches</th>\n",
       "      <th>Inns</th>\n",
       "      <th>Not Out</th>\n",
       "      <th>Runs</th>\n",
       "      <th>Highest Score</th>\n",
       "      <th>Avg</th>\n",
       "      <th>Balls faced</th>\n",
       "      <th>Strike rate</th>\n",
       "      <th>100s</th>\n",
       "      <th>50s</th>\n",
       "      <th>4s</th>\n",
       "      <th>6s</th>\n",
       "    </tr>\n",
       "  </thead>\n",
       "  <tbody>\n",
       "    <tr>\n",
       "      <th>0</th>\n",
       "      <td>1</td>\n",
       "      <td>KL Rahul</td>\n",
       "      <td>14</td>\n",
       "      <td>14</td>\n",
       "      <td>2</td>\n",
       "      <td>670</td>\n",
       "      <td>132*</td>\n",
       "      <td>55.83</td>\n",
       "      <td>518</td>\n",
       "      <td>129.34</td>\n",
       "      <td>1</td>\n",
       "      <td>5</td>\n",
       "      <td>58</td>\n",
       "      <td>23</td>\n",
       "    </tr>\n",
       "    <tr>\n",
       "      <th>4</th>\n",
       "      <td>5</td>\n",
       "      <td>Ishan Kishan</td>\n",
       "      <td>14</td>\n",
       "      <td>13</td>\n",
       "      <td>4</td>\n",
       "      <td>516</td>\n",
       "      <td>99</td>\n",
       "      <td>57.33</td>\n",
       "      <td>354</td>\n",
       "      <td>145.76</td>\n",
       "      <td>0</td>\n",
       "      <td>4</td>\n",
       "      <td>36</td>\n",
       "      <td>30</td>\n",
       "    </tr>\n",
       "  </tbody>\n",
       "</table>\n",
       "</div>"
      ],
      "text/plain": [
       "   Jersey No        Player  Matches  Inns  Not Out  Runs Highest Score    Avg  \\\n",
       "0          1      KL Rahul       14    14        2   670          132*  55.83   \n",
       "4          5  Ishan Kishan       14    13        4   516            99  57.33   \n",
       "\n",
       "   Balls faced  Strike rate  100s  50s  4s  6s  \n",
       "0          518       129.34     1    5  58  23  \n",
       "4          354       145.76     0    4  36  30  "
      ]
     },
     "execution_count": 418,
     "metadata": {},
     "output_type": "execute_result"
    }
   ],
   "source": [
    "Top_2= data[(data['50s']>2) & (data['Avg']>=50)].head(2)\n",
    "Top_2\n"
   ]
  },
  {
   "cell_type": "code",
   "execution_count": null,
   "id": "b58d8f17-2301-4340-83bc-492e5e03daa0",
   "metadata": {},
   "outputs": [],
   "source": []
  },
  {
   "cell_type": "markdown",
   "id": "15195194-0a3e-43aa-8565-5c0fbaf33561",
   "metadata": {},
   "source": [
    "Q3. Create 2 new columns based on Player name. First column will have first name and second column will have last name. Eg: for the player Shikhar Dhawan, Shikhar will be the first name and Dhawan will be the last name."
   ]
  },
  {
   "cell_type": "markdown",
   "id": "d4e50a5f-b54d-43f5-a02f-4142c7bcd3b3",
   "metadata": {},
   "source": [
    "Answer:"
   ]
  },
  {
   "cell_type": "code",
   "execution_count": 421,
   "id": "e5592cdd-e270-40be-9fa2-058301c793bb",
   "metadata": {},
   "outputs": [
    {
     "data": {
      "text/html": [
       "<div>\n",
       "<style scoped>\n",
       "    .dataframe tbody tr th:only-of-type {\n",
       "        vertical-align: middle;\n",
       "    }\n",
       "\n",
       "    .dataframe tbody tr th {\n",
       "        vertical-align: top;\n",
       "    }\n",
       "\n",
       "    .dataframe thead th {\n",
       "        text-align: right;\n",
       "    }\n",
       "</style>\n",
       "<table border=\"1\" class=\"dataframe\">\n",
       "  <thead>\n",
       "    <tr style=\"text-align: right;\">\n",
       "      <th></th>\n",
       "      <th>Jersey No</th>\n",
       "      <th>Player</th>\n",
       "      <th>Matches</th>\n",
       "      <th>Inns</th>\n",
       "      <th>Not Out</th>\n",
       "      <th>Runs</th>\n",
       "      <th>Highest Score</th>\n",
       "      <th>Avg</th>\n",
       "      <th>Balls faced</th>\n",
       "      <th>Strike rate</th>\n",
       "      <th>100s</th>\n",
       "      <th>50s</th>\n",
       "      <th>4s</th>\n",
       "      <th>6s</th>\n",
       "      <th>First name</th>\n",
       "      <th>Last name</th>\n",
       "    </tr>\n",
       "  </thead>\n",
       "  <tbody>\n",
       "    <tr>\n",
       "      <th>0</th>\n",
       "      <td>1</td>\n",
       "      <td>KL Rahul</td>\n",
       "      <td>14</td>\n",
       "      <td>14</td>\n",
       "      <td>2</td>\n",
       "      <td>670</td>\n",
       "      <td>132*</td>\n",
       "      <td>55.83</td>\n",
       "      <td>518</td>\n",
       "      <td>129.34</td>\n",
       "      <td>1</td>\n",
       "      <td>5</td>\n",
       "      <td>58</td>\n",
       "      <td>23</td>\n",
       "      <td>KL</td>\n",
       "      <td>Rahul</td>\n",
       "    </tr>\n",
       "    <tr>\n",
       "      <th>1</th>\n",
       "      <td>2</td>\n",
       "      <td>Shikhar Dhawan</td>\n",
       "      <td>17</td>\n",
       "      <td>17</td>\n",
       "      <td>3</td>\n",
       "      <td>618</td>\n",
       "      <td>106*</td>\n",
       "      <td>44.14</td>\n",
       "      <td>427</td>\n",
       "      <td>144.73</td>\n",
       "      <td>2</td>\n",
       "      <td>4</td>\n",
       "      <td>67</td>\n",
       "      <td>12</td>\n",
       "      <td>Shikhar</td>\n",
       "      <td>Dhawan</td>\n",
       "    </tr>\n",
       "    <tr>\n",
       "      <th>2</th>\n",
       "      <td>3</td>\n",
       "      <td>David Warner</td>\n",
       "      <td>16</td>\n",
       "      <td>16</td>\n",
       "      <td>2</td>\n",
       "      <td>548</td>\n",
       "      <td>85*</td>\n",
       "      <td>39.14</td>\n",
       "      <td>407</td>\n",
       "      <td>134.64</td>\n",
       "      <td>0</td>\n",
       "      <td>4</td>\n",
       "      <td>52</td>\n",
       "      <td>14</td>\n",
       "      <td>David</td>\n",
       "      <td>Warner</td>\n",
       "    </tr>\n",
       "    <tr>\n",
       "      <th>3</th>\n",
       "      <td>4</td>\n",
       "      <td>Shreyas Iyer</td>\n",
       "      <td>17</td>\n",
       "      <td>17</td>\n",
       "      <td>2</td>\n",
       "      <td>519</td>\n",
       "      <td>88*</td>\n",
       "      <td>34.60</td>\n",
       "      <td>421</td>\n",
       "      <td>123.27</td>\n",
       "      <td>0</td>\n",
       "      <td>3</td>\n",
       "      <td>40</td>\n",
       "      <td>16</td>\n",
       "      <td>Shreyas</td>\n",
       "      <td>Iyer</td>\n",
       "    </tr>\n",
       "    <tr>\n",
       "      <th>4</th>\n",
       "      <td>5</td>\n",
       "      <td>Ishan Kishan</td>\n",
       "      <td>14</td>\n",
       "      <td>13</td>\n",
       "      <td>4</td>\n",
       "      <td>516</td>\n",
       "      <td>99</td>\n",
       "      <td>57.33</td>\n",
       "      <td>354</td>\n",
       "      <td>145.76</td>\n",
       "      <td>0</td>\n",
       "      <td>4</td>\n",
       "      <td>36</td>\n",
       "      <td>30</td>\n",
       "      <td>Ishan</td>\n",
       "      <td>Kishan</td>\n",
       "    </tr>\n",
       "    <tr>\n",
       "      <th>...</th>\n",
       "      <td>...</td>\n",
       "      <td>...</td>\n",
       "      <td>...</td>\n",
       "      <td>...</td>\n",
       "      <td>...</td>\n",
       "      <td>...</td>\n",
       "      <td>...</td>\n",
       "      <td>...</td>\n",
       "      <td>...</td>\n",
       "      <td>...</td>\n",
       "      <td>...</td>\n",
       "      <td>...</td>\n",
       "      <td>...</td>\n",
       "      <td>...</td>\n",
       "      <td>...</td>\n",
       "      <td>...</td>\n",
       "    </tr>\n",
       "    <tr>\n",
       "      <th>128</th>\n",
       "      <td>129</td>\n",
       "      <td>Khaleel Ahmed</td>\n",
       "      <td>7</td>\n",
       "      <td>1</td>\n",
       "      <td>0</td>\n",
       "      <td>0</td>\n",
       "      <td>0*</td>\n",
       "      <td>0.00</td>\n",
       "      <td>2</td>\n",
       "      <td>0.00</td>\n",
       "      <td>0</td>\n",
       "      <td>0</td>\n",
       "      <td>0</td>\n",
       "      <td>0</td>\n",
       "      <td>Khaleel</td>\n",
       "      <td>Ahmed</td>\n",
       "    </tr>\n",
       "    <tr>\n",
       "      <th>129</th>\n",
       "      <td>130</td>\n",
       "      <td>Arshdeep Singh</td>\n",
       "      <td>8</td>\n",
       "      <td>1</td>\n",
       "      <td>0</td>\n",
       "      <td>0</td>\n",
       "      <td>0*</td>\n",
       "      <td>0.00</td>\n",
       "      <td>3</td>\n",
       "      <td>0.00</td>\n",
       "      <td>0</td>\n",
       "      <td>0</td>\n",
       "      <td>0</td>\n",
       "      <td>0</td>\n",
       "      <td>Arshdeep</td>\n",
       "      <td>Singh</td>\n",
       "    </tr>\n",
       "    <tr>\n",
       "      <th>130</th>\n",
       "      <td>131</td>\n",
       "      <td>Daniel Sams</td>\n",
       "      <td>3</td>\n",
       "      <td>1</td>\n",
       "      <td>0</td>\n",
       "      <td>0</td>\n",
       "      <td>0*</td>\n",
       "      <td>0.00</td>\n",
       "      <td>2</td>\n",
       "      <td>0.00</td>\n",
       "      <td>0</td>\n",
       "      <td>0</td>\n",
       "      <td>0</td>\n",
       "      <td>0</td>\n",
       "      <td>Daniel</td>\n",
       "      <td>Sams</td>\n",
       "    </tr>\n",
       "    <tr>\n",
       "      <th>131</th>\n",
       "      <td>132</td>\n",
       "      <td>Shreevats Goswami</td>\n",
       "      <td>2</td>\n",
       "      <td>2</td>\n",
       "      <td>0</td>\n",
       "      <td>0</td>\n",
       "      <td>0*</td>\n",
       "      <td>0.00</td>\n",
       "      <td>4</td>\n",
       "      <td>0.00</td>\n",
       "      <td>0</td>\n",
       "      <td>0</td>\n",
       "      <td>0</td>\n",
       "      <td>0</td>\n",
       "      <td>Shreevats</td>\n",
       "      <td>Goswami</td>\n",
       "    </tr>\n",
       "    <tr>\n",
       "      <th>132</th>\n",
       "      <td>133</td>\n",
       "      <td>Trent Boult</td>\n",
       "      <td>15</td>\n",
       "      <td>1</td>\n",
       "      <td>0</td>\n",
       "      <td>0</td>\n",
       "      <td>0*</td>\n",
       "      <td>0.00</td>\n",
       "      <td>1</td>\n",
       "      <td>0.00</td>\n",
       "      <td>0</td>\n",
       "      <td>0</td>\n",
       "      <td>0</td>\n",
       "      <td>0</td>\n",
       "      <td>Trent</td>\n",
       "      <td>Boult</td>\n",
       "    </tr>\n",
       "  </tbody>\n",
       "</table>\n",
       "<p>133 rows × 16 columns</p>\n",
       "</div>"
      ],
      "text/plain": [
       "     Jersey No             Player  Matches  Inns  Not Out  Runs Highest Score  \\\n",
       "0            1           KL Rahul       14    14        2   670          132*   \n",
       "1            2     Shikhar Dhawan       17    17        3   618          106*   \n",
       "2            3       David Warner       16    16        2   548           85*   \n",
       "3            4       Shreyas Iyer       17    17        2   519           88*   \n",
       "4            5       Ishan Kishan       14    13        4   516            99   \n",
       "..         ...                ...      ...   ...      ...   ...           ...   \n",
       "128        129      Khaleel Ahmed        7     1        0     0            0*   \n",
       "129        130     Arshdeep Singh        8     1        0     0            0*   \n",
       "130        131        Daniel Sams        3     1        0     0            0*   \n",
       "131        132  Shreevats Goswami        2     2        0     0            0*   \n",
       "132        133        Trent Boult       15     1        0     0            0*   \n",
       "\n",
       "       Avg  Balls faced  Strike rate  100s  50s  4s  6s First name Last name  \n",
       "0    55.83          518       129.34     1    5  58  23         KL     Rahul  \n",
       "1    44.14          427       144.73     2    4  67  12    Shikhar    Dhawan  \n",
       "2    39.14          407       134.64     0    4  52  14      David    Warner  \n",
       "3    34.60          421       123.27     0    3  40  16    Shreyas      Iyer  \n",
       "4    57.33          354       145.76     0    4  36  30      Ishan    Kishan  \n",
       "..     ...          ...          ...   ...  ...  ..  ..        ...       ...  \n",
       "128   0.00            2         0.00     0    0   0   0    Khaleel     Ahmed  \n",
       "129   0.00            3         0.00     0    0   0   0   Arshdeep     Singh  \n",
       "130   0.00            2         0.00     0    0   0   0     Daniel      Sams  \n",
       "131   0.00            4         0.00     0    0   0   0  Shreevats   Goswami  \n",
       "132   0.00            1         0.00     0    0   0   0      Trent     Boult  \n",
       "\n",
       "[133 rows x 16 columns]"
      ]
     },
     "execution_count": 421,
     "metadata": {},
     "output_type": "execute_result"
    }
   ],
   "source": [
    "data[['First name', 'Last name']] = data['Player'].str.extract('(\\\\w+)\\\\s*(\\\\w+)')\n",
    "data"
   ]
  },
  {
   "cell_type": "code",
   "execution_count": 437,
   "id": "7a402c39-4ebf-4ce1-be20-85f298be20bd",
   "metadata": {},
   "outputs": [
    {
     "ename": "ValueError",
     "evalue": "Columns must be same length as key",
     "output_type": "error",
     "traceback": [
      "\u001b[1;31m---------------------------------------------------------------------------\u001b[0m",
      "\u001b[1;31mValueError\u001b[0m                                Traceback (most recent call last)",
      "\u001b[1;32m~\\AppData\\Local\\Temp\\ipykernel_13380\\1468815116.py\u001b[0m in \u001b[0;36m?\u001b[1;34m()\u001b[0m\n\u001b[1;32m----> 1\u001b[1;33m \u001b[0mdata\u001b[0m\u001b[1;33m[\u001b[0m\u001b[1;33m[\u001b[0m\u001b[1;34m'First name'\u001b[0m\u001b[1;33m,\u001b[0m \u001b[1;34m'Last name'\u001b[0m\u001b[1;33m]\u001b[0m\u001b[1;33m]\u001b[0m \u001b[1;33m=\u001b[0m \u001b[0mdata\u001b[0m\u001b[1;33m[\u001b[0m\u001b[1;34m'Player'\u001b[0m\u001b[1;33m]\u001b[0m\u001b[1;33m.\u001b[0m\u001b[0mstr\u001b[0m\u001b[1;33m.\u001b[0m\u001b[0msplit\u001b[0m\u001b[1;33m(\u001b[0m\u001b[1;34m''\u001b[0m\u001b[1;33m)\u001b[0m\u001b[1;33m\u001b[0m\u001b[1;33m\u001b[0m\u001b[0m\n\u001b[0m\u001b[0;32m      2\u001b[0m \u001b[0mdata\u001b[0m\u001b[1;33m\u001b[0m\u001b[1;33m\u001b[0m\u001b[0m\n",
      "\u001b[1;32m~\\anaconda\\Lib\\site-packages\\pandas\\core\\frame.py\u001b[0m in \u001b[0;36m?\u001b[1;34m(self, key, value)\u001b[0m\n\u001b[0;32m   4295\u001b[0m \u001b[1;33m\u001b[0m\u001b[0m\n\u001b[0;32m   4296\u001b[0m         \u001b[1;32mif\u001b[0m \u001b[0misinstance\u001b[0m\u001b[1;33m(\u001b[0m\u001b[0mkey\u001b[0m\u001b[1;33m,\u001b[0m \u001b[0mDataFrame\u001b[0m\u001b[1;33m)\u001b[0m \u001b[1;32mor\u001b[0m \u001b[0mgetattr\u001b[0m\u001b[1;33m(\u001b[0m\u001b[0mkey\u001b[0m\u001b[1;33m,\u001b[0m \u001b[1;34m\"ndim\"\u001b[0m\u001b[1;33m,\u001b[0m \u001b[1;32mNone\u001b[0m\u001b[1;33m)\u001b[0m \u001b[1;33m==\u001b[0m \u001b[1;36m2\u001b[0m\u001b[1;33m:\u001b[0m\u001b[1;33m\u001b[0m\u001b[1;33m\u001b[0m\u001b[0m\n\u001b[0;32m   4297\u001b[0m             \u001b[0mself\u001b[0m\u001b[1;33m.\u001b[0m\u001b[0m_setitem_frame\u001b[0m\u001b[1;33m(\u001b[0m\u001b[0mkey\u001b[0m\u001b[1;33m,\u001b[0m \u001b[0mvalue\u001b[0m\u001b[1;33m)\u001b[0m\u001b[1;33m\u001b[0m\u001b[1;33m\u001b[0m\u001b[0m\n\u001b[0;32m   4298\u001b[0m         \u001b[1;32melif\u001b[0m \u001b[0misinstance\u001b[0m\u001b[1;33m(\u001b[0m\u001b[0mkey\u001b[0m\u001b[1;33m,\u001b[0m \u001b[1;33m(\u001b[0m\u001b[0mSeries\u001b[0m\u001b[1;33m,\u001b[0m \u001b[0mnp\u001b[0m\u001b[1;33m.\u001b[0m\u001b[0mndarray\u001b[0m\u001b[1;33m,\u001b[0m \u001b[0mlist\u001b[0m\u001b[1;33m,\u001b[0m \u001b[0mIndex\u001b[0m\u001b[1;33m)\u001b[0m\u001b[1;33m)\u001b[0m\u001b[1;33m:\u001b[0m\u001b[1;33m\u001b[0m\u001b[1;33m\u001b[0m\u001b[0m\n\u001b[1;32m-> 4299\u001b[1;33m             \u001b[0mself\u001b[0m\u001b[1;33m.\u001b[0m\u001b[0m_setitem_array\u001b[0m\u001b[1;33m(\u001b[0m\u001b[0mkey\u001b[0m\u001b[1;33m,\u001b[0m \u001b[0mvalue\u001b[0m\u001b[1;33m)\u001b[0m\u001b[1;33m\u001b[0m\u001b[1;33m\u001b[0m\u001b[0m\n\u001b[0m\u001b[0;32m   4300\u001b[0m         \u001b[1;32melif\u001b[0m \u001b[0misinstance\u001b[0m\u001b[1;33m(\u001b[0m\u001b[0mvalue\u001b[0m\u001b[1;33m,\u001b[0m \u001b[0mDataFrame\u001b[0m\u001b[1;33m)\u001b[0m\u001b[1;33m:\u001b[0m\u001b[1;33m\u001b[0m\u001b[1;33m\u001b[0m\u001b[0m\n\u001b[0;32m   4301\u001b[0m             \u001b[0mself\u001b[0m\u001b[1;33m.\u001b[0m\u001b[0m_set_item_frame_value\u001b[0m\u001b[1;33m(\u001b[0m\u001b[0mkey\u001b[0m\u001b[1;33m,\u001b[0m \u001b[0mvalue\u001b[0m\u001b[1;33m)\u001b[0m\u001b[1;33m\u001b[0m\u001b[1;33m\u001b[0m\u001b[0m\n\u001b[0;32m   4302\u001b[0m         elif (\n",
      "\u001b[1;32m~\\anaconda\\Lib\\site-packages\\pandas\\core\\frame.py\u001b[0m in \u001b[0;36m?\u001b[1;34m(self, key, value)\u001b[0m\n\u001b[0;32m   4354\u001b[0m                 \u001b[0mvalue\u001b[0m \u001b[1;33m=\u001b[0m \u001b[0mDataFrame\u001b[0m\u001b[1;33m(\u001b[0m\u001b[0mvalue\u001b[0m\u001b[1;33m)\u001b[0m\u001b[1;33m.\u001b[0m\u001b[0mvalues\u001b[0m\u001b[1;33m\u001b[0m\u001b[1;33m\u001b[0m\u001b[0m\n\u001b[0;32m   4355\u001b[0m                 \u001b[1;32mreturn\u001b[0m \u001b[0mself\u001b[0m\u001b[1;33m.\u001b[0m\u001b[0m_setitem_array\u001b[0m\u001b[1;33m(\u001b[0m\u001b[0mkey\u001b[0m\u001b[1;33m,\u001b[0m \u001b[0mvalue\u001b[0m\u001b[1;33m)\u001b[0m\u001b[1;33m\u001b[0m\u001b[1;33m\u001b[0m\u001b[0m\n\u001b[0;32m   4356\u001b[0m \u001b[1;33m\u001b[0m\u001b[0m\n\u001b[0;32m   4357\u001b[0m             \u001b[1;32melse\u001b[0m\u001b[1;33m:\u001b[0m\u001b[1;33m\u001b[0m\u001b[1;33m\u001b[0m\u001b[0m\n\u001b[1;32m-> 4358\u001b[1;33m                 \u001b[0mself\u001b[0m\u001b[1;33m.\u001b[0m\u001b[0m_iset_not_inplace\u001b[0m\u001b[1;33m(\u001b[0m\u001b[0mkey\u001b[0m\u001b[1;33m,\u001b[0m \u001b[0mvalue\u001b[0m\u001b[1;33m)\u001b[0m\u001b[1;33m\u001b[0m\u001b[1;33m\u001b[0m\u001b[0m\n\u001b[0m",
      "\u001b[1;32m~\\anaconda\\Lib\\site-packages\\pandas\\core\\frame.py\u001b[0m in \u001b[0;36m?\u001b[1;34m(self, key, value)\u001b[0m\n\u001b[0;32m   4373\u001b[0m                 \u001b[1;32mreturn\u001b[0m \u001b[0mobj\u001b[0m\u001b[1;33m[\u001b[0m\u001b[0mi\u001b[0m\u001b[1;33m]\u001b[0m\u001b[1;33m\u001b[0m\u001b[1;33m\u001b[0m\u001b[0m\n\u001b[0;32m   4374\u001b[0m \u001b[1;33m\u001b[0m\u001b[0m\n\u001b[0;32m   4375\u001b[0m         \u001b[1;32mif\u001b[0m \u001b[0mself\u001b[0m\u001b[1;33m.\u001b[0m\u001b[0mcolumns\u001b[0m\u001b[1;33m.\u001b[0m\u001b[0mis_unique\u001b[0m\u001b[1;33m:\u001b[0m\u001b[1;33m\u001b[0m\u001b[1;33m\u001b[0m\u001b[0m\n\u001b[0;32m   4376\u001b[0m             \u001b[1;32mif\u001b[0m \u001b[0mnp\u001b[0m\u001b[1;33m.\u001b[0m\u001b[0mshape\u001b[0m\u001b[1;33m(\u001b[0m\u001b[0mvalue\u001b[0m\u001b[1;33m)\u001b[0m\u001b[1;33m[\u001b[0m\u001b[1;33m-\u001b[0m\u001b[1;36m1\u001b[0m\u001b[1;33m]\u001b[0m \u001b[1;33m!=\u001b[0m \u001b[0mlen\u001b[0m\u001b[1;33m(\u001b[0m\u001b[0mkey\u001b[0m\u001b[1;33m)\u001b[0m\u001b[1;33m:\u001b[0m\u001b[1;33m\u001b[0m\u001b[1;33m\u001b[0m\u001b[0m\n\u001b[1;32m-> 4377\u001b[1;33m                 \u001b[1;32mraise\u001b[0m \u001b[0mValueError\u001b[0m\u001b[1;33m(\u001b[0m\u001b[1;34m\"Columns must be same length as key\"\u001b[0m\u001b[1;33m)\u001b[0m\u001b[1;33m\u001b[0m\u001b[1;33m\u001b[0m\u001b[0m\n\u001b[0m\u001b[0;32m   4378\u001b[0m \u001b[1;33m\u001b[0m\u001b[0m\n\u001b[0;32m   4379\u001b[0m             \u001b[1;32mfor\u001b[0m \u001b[0mi\u001b[0m\u001b[1;33m,\u001b[0m \u001b[0mcol\u001b[0m \u001b[1;32min\u001b[0m \u001b[0menumerate\u001b[0m\u001b[1;33m(\u001b[0m\u001b[0mkey\u001b[0m\u001b[1;33m)\u001b[0m\u001b[1;33m:\u001b[0m\u001b[1;33m\u001b[0m\u001b[1;33m\u001b[0m\u001b[0m\n\u001b[0;32m   4380\u001b[0m                 \u001b[0mself\u001b[0m\u001b[1;33m[\u001b[0m\u001b[0mcol\u001b[0m\u001b[1;33m]\u001b[0m \u001b[1;33m=\u001b[0m \u001b[0migetitem\u001b[0m\u001b[1;33m(\u001b[0m\u001b[0mvalue\u001b[0m\u001b[1;33m,\u001b[0m \u001b[0mi\u001b[0m\u001b[1;33m)\u001b[0m\u001b[1;33m\u001b[0m\u001b[1;33m\u001b[0m\u001b[0m\n",
      "\u001b[1;31mValueError\u001b[0m: Columns must be same length as key"
     ]
    }
   ],
   "source": [
    "data[['First name', 'Last name']] = data['Player'].str.split('')\n",
    "data"
   ]
  },
  {
   "cell_type": "markdown",
   "id": "83db6c54-6a1f-4ef8-aacc-2d77ab738618",
   "metadata": {},
   "source": [
    "Q4. Create a new column (Cleaned_Highest_score) based on Highest score variable. Remove the Asterik(*) mark and convert the data type into INT.\n"
   ]
  },
  {
   "cell_type": "markdown",
   "id": "1997c9e4-19c3-400b-9daf-b539203877d5",
   "metadata": {},
   "source": [
    "Answer:"
   ]
  },
  {
   "cell_type": "code",
   "execution_count": null,
   "id": "285cb6de-4ff3-45d8-a85a-454d16b15269",
   "metadata": {},
   "outputs": [],
   "source": [
    "data['Cleaned_Highest_score'] = data['Highest Score'].str.extract('(\\\\d+)')\n",
    "data"
   ]
  },
  {
   "cell_type": "markdown",
   "id": "03510eb8-1e5a-4e72-a230-cbe763f8a131",
   "metadata": {},
   "source": [
    "Q5. Print the total number of centuries scored in the entire season."
   ]
  },
  {
   "cell_type": "markdown",
   "id": "4477d47d-c3ad-49ee-afec-a7645162959d",
   "metadata": {},
   "source": [
    "Answer:"
   ]
  },
  {
   "cell_type": "code",
   "execution_count": null,
   "id": "0fde123a-9aa7-431e-9ff6-a26cc2bf7d31",
   "metadata": {},
   "outputs": [],
   "source": [
    "Total_100= data['100s'].sum()\n",
    "Total_100"
   ]
  },
  {
   "cell_type": "markdown",
   "id": "0c3c2ee1-b4de-4967-9b9c-ff3c366fcca3",
   "metadata": {},
   "source": [
    "Q6. Print all the player names whose strike rate is less than the average strike rate of all players in entire season. Print the player name, his strike rate and average strike rate."
   ]
  },
  {
   "cell_type": "markdown",
   "id": "f7fb0d18-db61-4336-bb78-0cf766c3f938",
   "metadata": {},
   "source": [
    "Answer:"
   ]
  },
  {
   "cell_type": "code",
   "execution_count": null,
   "id": "18775968-161a-4038-961b-5431f7017b3a",
   "metadata": {},
   "outputs": [],
   "source": [
    "Avg_strike_rate = data['Strike rate'].mean()\n",
    "Avg_strike_rate"
   ]
  },
  {
   "cell_type": "code",
   "execution_count": null,
   "id": "e49b5444-7f9e-4808-b7ef-96de682c0291",
   "metadata": {},
   "outputs": [],
   "source": [
    "df = data[data['Strike rate']<data['Strike rate'].mean()]\n",
    "print(df[['Player','Strike rate']])"
   ]
  },
  {
   "cell_type": "markdown",
   "id": "f20374c5-57e8-4589-86b2-857f150f65dd",
   "metadata": {},
   "source": [
    "Q7. Please check the correlation between the features and create a heat map."
   ]
  },
  {
   "cell_type": "markdown",
   "id": "814feeb0-c071-44ae-bb48-719d77c73ae9",
   "metadata": {},
   "source": [
    "Answer:"
   ]
  },
  {
   "cell_type": "code",
   "execution_count": null,
   "id": "776e6683-7733-4c57-9f4a-4f7bc31844ac",
   "metadata": {},
   "outputs": [],
   "source": [
    "col_obj = [i for i in data.columns if data[i].dtypes == 'object']\n",
    "col_num = [i for i in data.columns if data[i].dtype != 'object']\n",
    "object_col = data[col_obj]\n",
    "numeric_col = data[col_num]\n",
    "numeric_col.corr()"
   ]
  },
  {
   "cell_type": "code",
   "execution_count": null,
   "id": "3196a282-b607-4d20-8b8b-a7d3d83aa3cf",
   "metadata": {},
   "outputs": [],
   "source": [
    "plt.figure(figsize=(12,8))\n",
    "sns.heatmap(numeric_col.corr(), cmap ='YlOrBr')"
   ]
  },
  {
   "cell_type": "markdown",
   "id": "bcbc0529-eea8-48b8-8990-e59cdc18255b",
   "metadata": {},
   "source": [
    "Q8. Check the list of players who has an average greater than 50 as well strike rate above 120. Print player name, average and strike rate."
   ]
  },
  {
   "cell_type": "markdown",
   "id": "04f1988d-dcac-457a-b0ee-e707c30d3c7c",
   "metadata": {},
   "source": [
    "Answer:"
   ]
  },
  {
   "cell_type": "code",
   "execution_count": null,
   "id": "5347e5c5-3da1-4b63-aef0-5fd918530837",
   "metadata": {},
   "outputs": [],
   "source": [
    "opt = data[(data['Avg']>=50) & (data['Strike rate']>=120)]\n",
    "print(opt[['Player','Avg','Strike rate']])"
   ]
  },
  {
   "cell_type": "markdown",
   "id": "8d06097a-540e-4740-affc-1f791c60a89d",
   "metadata": {},
   "source": [
    "Q9. Please check the list of players who has an average greater than 40 and balls faced above 100. Print player name, average and balls faced."
   ]
  },
  {
   "cell_type": "markdown",
   "id": "ea9f448b-0a01-4c19-98c5-1408c54887ec",
   "metadata": {},
   "source": [
    "Answer:"
   ]
  },
  {
   "cell_type": "code",
   "execution_count": null,
   "id": "6fe212f5-a1b1-4c4e-ae1f-17ec92ca5cda",
   "metadata": {},
   "outputs": [],
   "source": [
    "pt = data[(data['Avg']>=40) & (data['Balls faced']>=100)]\n",
    "print(pt[['Player','Avg','Balls faced']])"
   ]
  },
  {
   "cell_type": "markdown",
   "id": "345d7a75-eaa2-4606-8d7d-0a6f243417a3",
   "metadata": {},
   "source": [
    "Q10. Players who scored atleast one century in this season. Create visualization."
   ]
  },
  {
   "cell_type": "markdown",
   "id": "5a4a3256-76b2-4e2c-9266-14d6e51f29a5",
   "metadata": {},
   "source": [
    "Answer:"
   ]
  },
  {
   "cell_type": "code",
   "execution_count": null,
   "id": "d0999a92-1bcc-4c83-93dd-ca468557c92f",
   "metadata": {},
   "outputs": [],
   "source": [
    "p100 = data[(data['100s']>0)]\n",
    "print(p100[['Player','100s']])"
   ]
  },
  {
   "cell_type": "code",
   "execution_count": null,
   "id": "116f18dd-b577-4b28-a059-acf90c1ba7e0",
   "metadata": {},
   "outputs": [],
   "source": [
    "sns.histplot(numeric_col['100s'])"
   ]
  },
  {
   "cell_type": "markdown",
   "id": "95b0e608-2664-40ba-8e71-b66985c1d504",
   "metadata": {},
   "source": [
    "Q11. Players who scored atleast 4 half centuries in this season."
   ]
  },
  {
   "cell_type": "markdown",
   "id": "0480e0ec-04bb-4829-8cb4-593f0708138a",
   "metadata": {},
   "source": [
    "Answer:"
   ]
  },
  {
   "cell_type": "code",
   "execution_count": null,
   "id": "30b6980d-beeb-4888-95b3-a0e92abdfa00",
   "metadata": {},
   "outputs": [],
   "source": [
    "ply = data[(data['100s']>4)]\n",
    "print(ply[['Player']])"
   ]
  },
  {
   "cell_type": "markdown",
   "id": "6e3fa6c4-3cef-4ecd-b8cd-eeb7647a1876",
   "metadata": {},
   "source": [
    "Q12. Check the list of players who hit more than 45 boundaries and more than 10 sixes in this season."
   ]
  },
  {
   "cell_type": "markdown",
   "id": "a5fe97d0-62a7-480c-84f1-85216df59a18",
   "metadata": {},
   "source": [
    "Answer:"
   ]
  },
  {
   "cell_type": "code",
   "execution_count": null,
   "id": "baef2e24-9ed7-4b7c-af88-d149360582f9",
   "metadata": {},
   "outputs": [],
   "source": [
    "Boun_Sixes = data[(data['4s']>45) & (data['6s']>10)]\n",
    "print(Boun_Sixes[['Player','4s','6s']])"
   ]
  },
  {
   "cell_type": "markdown",
   "id": "c52fadff-0732-40e9-b7e0-329b23c4060c",
   "metadata": {},
   "source": [
    "Q13. Plot a histogram of number of matches played in a season by players."
   ]
  },
  {
   "cell_type": "code",
   "execution_count": null,
   "id": "18147e82-09a9-442f-9429-fd7f22e31be5",
   "metadata": {},
   "outputs": [],
   "source": [
    "sns.histplot(numeric_col['Matches'])"
   ]
  },
  {
   "cell_type": "markdown",
   "id": "6fda939b-0b73-4bf7-8c5a-5222af5b3ab4",
   "metadata": {},
   "source": [
    "Q14. Plot the histogram of balls faced by players."
   ]
  },
  {
   "cell_type": "markdown",
   "id": "5b730266-9047-410c-87d7-4605068e46c8",
   "metadata": {},
   "source": [
    "Answer:"
   ]
  },
  {
   "cell_type": "code",
   "execution_count": null,
   "id": "f29df384-fd77-437b-8a5c-5d4649e50d34",
   "metadata": {},
   "outputs": [],
   "source": [
    "sns.histplot(numeric_col['Balls faced'])"
   ]
  },
  {
   "cell_type": "markdown",
   "id": "9ef446e9-808e-4c2b-aa83-6ca0f6043dde",
   "metadata": {},
   "source": [
    "Q15. Top 10 players with most runs in a season.\n"
   ]
  },
  {
   "cell_type": "markdown",
   "id": "f5abf183-6382-4967-9f0d-0c27e881fbc6",
   "metadata": {},
   "source": [
    "Answer:"
   ]
  },
  {
   "cell_type": "code",
   "execution_count": null,
   "id": "f042c8bc-4560-4a07-bf4a-4a5890049cef",
   "metadata": {},
   "outputs": [],
   "source": [
    "Top= data[['Player','Runs']].head(10)\n",
    "Top"
   ]
  },
  {
   "cell_type": "markdown",
   "id": "480b4433-8de3-48b1-8194-142dabe6020d",
   "metadata": {},
   "source": [
    "Q16. Print the players who played the match but didn't get the batting."
   ]
  },
  {
   "cell_type": "markdown",
   "id": "653d3d17-df76-4fec-ba20-53af4aa987ae",
   "metadata": {},
   "source": [
    "Answer:"
   ]
  },
  {
   "cell_type": "code",
   "execution_count": null,
   "id": "4cdb4af5-4a49-462f-a603-eeb8503010e9",
   "metadata": {},
   "outputs": [],
   "source": [
    "didnt_bat = data[(data['Balls faced']<1)]\n",
    "print(didnt_bat[['Player']])"
   ]
  },
  {
   "cell_type": "markdown",
   "id": "47dcef83-da82-44c9-a47f-b75d2f6ed02a",
   "metadata": {},
   "source": [
    "Q17. Create a new column to show the percentage of total runs scored in 4s and 6s. Then print the top 5 players with maximum percentage."
   ]
  },
  {
   "cell_type": "markdown",
   "id": "840eb0ec-5eae-4f80-8ff8-54f382ea77c0",
   "metadata": {},
   "source": [
    "Answer:"
   ]
  },
  {
   "cell_type": "code",
   "execution_count": null,
   "id": "aea96163-c4ab-4c9f-ae25-c0089bf86977",
   "metadata": {},
   "outputs": [],
   "source": [
    "data['Runs in 4s'] = (data['4s']*4)\n",
    "data['Runs in 6s'] = (data['6s']*6)\n",
    "data['%of Runs in 4s'] = (data['Runs in 4s']*100).div(data['Runs'],axis=0)\n",
    "data['%of Runs in 6s'] = (data['Runs in 6s']*100).div(data['Runs'],axis=0)\n",
    "top5 = data[['Player','%of Runs in 4s','%of Runs in 6s']].head(5)\n",
    "top5"
   ]
  },
  {
   "cell_type": "markdown",
   "id": "8f304519-b769-434f-acff-1ccd3826421c",
   "metadata": {},
   "source": [
    "Q18. Print the players with top 5 Not out percentages (Not Out percentage can be calculated as number of Not outs divided by Innings)."
   ]
  },
  {
   "cell_type": "markdown",
   "id": "746daf1a-227b-4ef5-8e06-331dfd75bba6",
   "metadata": {},
   "source": [
    "Answer:"
   ]
  },
  {
   "cell_type": "code",
   "execution_count": null,
   "id": "646da393-7b66-4f76-b5b1-38a45b140a95",
   "metadata": {},
   "outputs": [],
   "source": [
    "data['% of not out'] = (data['Not Out']*100).div(data['Matches'],axis=0)\n",
    "top_fives = data[['Player','% of not out']].head(5)\n",
    "top_fives"
   ]
  },
  {
   "cell_type": "markdown",
   "id": "0f3b6d99-ce21-444e-8a1b-a5afbc2068f6",
   "metadata": {},
   "source": [
    "Q19. Create visualization of top 10 players with highest number of sixes."
   ]
  },
  {
   "cell_type": "markdown",
   "id": "c43bc067-227f-4bd9-8ca4-59cd7b7b6a18",
   "metadata": {},
   "source": [
    "Answer:"
   ]
  },
  {
   "cell_type": "code",
   "execution_count": null,
   "id": "11310ef8-efd3-426d-b67c-e82a92735dda",
   "metadata": {},
   "outputs": [],
   "source": [
    "sns.scatterplot(numeric_col['6s'].head(10))"
   ]
  },
  {
   "cell_type": "code",
   "execution_count": null,
   "id": "e7389476-cc42-4683-8556-1d2f45aee53d",
   "metadata": {},
   "outputs": [],
   "source": [
    "data['6s'].max()"
   ]
  },
  {
   "cell_type": "markdown",
   "id": "ec4ded50-cc3e-4c60-85ba-73fee194fa33",
   "metadata": {},
   "source": [
    "Q20. Scatter plot of runs scored by a player v/s balls faced in a season. Then find the relationship between these 2 variables.\n"
   ]
  },
  {
   "cell_type": "markdown",
   "id": "29911996-7a15-4474-a305-d8bd75eb2c57",
   "metadata": {},
   "source": [
    "Answer:"
   ]
  },
  {
   "cell_type": "code",
   "execution_count": null,
   "id": "43ba7ed8-ab05-4908-baaa-b0522b4a891d",
   "metadata": {},
   "outputs": [],
   "source": [
    "sns.scatterplot(numeric_col['Runs'])"
   ]
  },
  {
   "cell_type": "code",
   "execution_count": null,
   "id": "a45784ea-d5b8-4172-b708-be5929857c0e",
   "metadata": {},
   "outputs": [],
   "source": [
    "sns.scatterplot(numeric_col['Balls faced'])"
   ]
  },
  {
   "cell_type": "markdown",
   "id": "fe52b050-6135-4f9f-b718-a2eaf893ae25",
   "metadata": {},
   "source": [
    "from these scatterplot we can drive to the conclusion that highest number of runs scored in the season had faced more  then 500 Balls and total Runs of an individual drops if the number of balls faced is less then 100.\n",
    "If we comapre with them with players who had faced more 100 balls."
   ]
  },
  {
   "cell_type": "code",
   "execution_count": null,
   "id": "ae14f871-9e73-4af3-bc2a-8820cfedd75a",
   "metadata": {},
   "outputs": [],
   "source": []
  },
  {
   "cell_type": "markdown",
   "id": "1a908f90-538b-4382-9a68-23788360ca8b",
   "metadata": {},
   "source": [
    "Those who have faced more number of balls here able to score more runs compared to players who faced less number of balls in the saeson.\n",
    "So, if a player wants to boost his performance with the score sheet, he have to play atleast and more 100 number of balls."
   ]
  },
  {
   "cell_type": "code",
   "execution_count": null,
   "id": "f69f1b66-a62f-45fb-bff8-9d02a0d01767",
   "metadata": {},
   "outputs": [],
   "source": []
  },
  {
   "cell_type": "code",
   "execution_count": null,
   "id": "4cac4528-7648-48f5-a059-673cfc84d971",
   "metadata": {},
   "outputs": [],
   "source": []
  }
 ],
 "metadata": {
  "kernelspec": {
   "display_name": "Python 3 (ipykernel)",
   "language": "python",
   "name": "python3"
  },
  "language_info": {
   "codemirror_mode": {
    "name": "ipython",
    "version": 3
   },
   "file_extension": ".py",
   "mimetype": "text/x-python",
   "name": "python",
   "nbconvert_exporter": "python",
   "pygments_lexer": "ipython3",
   "version": "3.12.4"
  }
 },
 "nbformat": 4,
 "nbformat_minor": 5
}
